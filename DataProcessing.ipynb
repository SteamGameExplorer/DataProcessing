{
  "nbformat": 4,
  "nbformat_minor": 0,
  "metadata": {
    "colab": {
      "name": "550preprocessing.ipynb",
      "provenance": [],
      "collapsed_sections": [],
      "toc_visible": true
    },
    "kernelspec": {
      "name": "python3",
      "display_name": "Python 3"
    }
  },
  "cells": [
    {
      "cell_type": "code",
      "metadata": {
        "id": "LsFcW2OH_ZDj"
      },
      "source": [
        "import pandas as pd\n",
        "import numpy as np"
      ],
      "execution_count": null,
      "outputs": []
    },
    {
      "cell_type": "code",
      "metadata": {
        "id": "hAtJhdQzUtKw"
      },
      "source": [
        "steam = pd.read_csv('steam.csv')\n",
        "steam_description_data = pd.read_csv('steam_description_data.csv')\n",
        "steam_media_data = pd.read_csv('steam_media_data.csv')\n",
        "steam_requirements_data = pd.read_csv('steam_requirements_data.csv')\n",
        "steam_support_info = pd.read_csv('steam_support_info.csv')"
      ],
      "execution_count": null,
      "outputs": []
    },
    {
      "cell_type": "markdown",
      "metadata": {
        "id": "d4gn4o513X-H"
      },
      "source": [
        "## Game"
      ]
    },
    {
      "cell_type": "code",
      "metadata": {
        "id": "Ftl2QKUmEAv9"
      },
      "source": [
        "steam_new = steam[['appid','name','publisher','platforms','positive_ratings',\n",
        "                   'negative_ratings','price','release_date']]"
      ],
      "execution_count": null,
      "outputs": []
    },
    {
      "cell_type": "code",
      "metadata": {
        "id": "lAFS0jQBc6mf",
        "colab": {
          "base_uri": "https://localhost:8080/"
        },
        "outputId": "a8833dc0-f34c-4743-bf1b-75fd8aab0dae"
      },
      "source": [
        "steam_new['rating'] = steam_new['positive_ratings']/(steam_new['positive_ratings']+steam_new['negative_ratings'])"
      ],
      "execution_count": null,
      "outputs": [
        {
          "output_type": "stream",
          "text": [
            "/usr/local/lib/python3.6/dist-packages/ipykernel_launcher.py:1: SettingWithCopyWarning: \n",
            "A value is trying to be set on a copy of a slice from a DataFrame.\n",
            "Try using .loc[row_indexer,col_indexer] = value instead\n",
            "\n",
            "See the caveats in the documentation: https://pandas.pydata.org/pandas-docs/stable/user_guide/indexing.html#returning-a-view-versus-a-copy\n",
            "  \"\"\"Entry point for launching an IPython kernel.\n"
          ],
          "name": "stderr"
        }
      ]
    },
    {
      "cell_type": "code",
      "metadata": {
        "id": "OqWSqxwpBVmq"
      },
      "source": [
        "steam_new = steam_new.drop(columns=['positive_ratings','negative_ratings'])"
      ],
      "execution_count": null,
      "outputs": []
    },
    {
      "cell_type": "code",
      "metadata": {
        "id": "SYMDCquTFUW7"
      },
      "source": [
        "headers_movies = steam_media_data[['steam_appid','header_image','movies']]"
      ],
      "execution_count": null,
      "outputs": []
    },
    {
      "cell_type": "code",
      "metadata": {
        "id": "rvROquLAgDJY"
      },
      "source": [
        "game_temp = steam_new.merge(headers_movies,left_on='appid',right_on='steam_appid').drop(columns=['steam_appid'])"
      ],
      "execution_count": null,
      "outputs": []
    },
    {
      "cell_type": "code",
      "metadata": {
        "id": "MQzuKsc2gnsI"
      },
      "source": [
        "game_df = game_temp.merge(steam_description_data,left_on='appid',right_on='steam_appid').\\\n",
        "drop(columns=['detailed_description','about_the_game'])"
      ],
      "execution_count": null,
      "outputs": []
    },
    {
      "cell_type": "code",
      "metadata": {
        "id": "tfgM5cBRgmF6"
      },
      "source": [
        "game_df = game_df.rename(columns={'appid':'game_id',\\\n",
        "                                  'header_image':'header','publisher':'company'})\\\n",
        "                                  .drop(columns=['steam_appid'])                      "
      ],
      "execution_count": null,
      "outputs": []
    },
    {
      "cell_type": "code",
      "metadata": {
        "id": "4E6sDOvhhqA7"
      },
      "source": [
        "game_df['rating'] = (game_df['rating']*10).round(decimals=2)"
      ],
      "execution_count": null,
      "outputs": []
    },
    {
      "cell_type": "code",
      "metadata": {
        "id": "W2FpmdrMkx1W"
      },
      "source": [
        "empty_indx = list(game_df[game_df['company']==\" \"].index)"
      ],
      "execution_count": null,
      "outputs": []
    },
    {
      "cell_type": "code",
      "metadata": {
        "id": "QHs0PJ_kkuwk"
      },
      "source": [
        "game_df = game_df.drop(labels=empty_indx,axis=0)"
      ],
      "execution_count": null,
      "outputs": []
    },
    {
      "cell_type": "code",
      "metadata": {
        "id": "b6SIZYjpuaTQ",
        "colab": {
          "base_uri": "https://localhost:8080/",
          "height": 949
        },
        "outputId": "b8d51b0d-e956-46f8-e2a2-8e2c940b8e3f"
      },
      "source": [
        "game_df"
      ],
      "execution_count": null,
      "outputs": [
        {
          "output_type": "execute_result",
          "data": {
            "text/html": [
              "<div>\n",
              "<style scoped>\n",
              "    .dataframe tbody tr th:only-of-type {\n",
              "        vertical-align: middle;\n",
              "    }\n",
              "\n",
              "    .dataframe tbody tr th {\n",
              "        vertical-align: top;\n",
              "    }\n",
              "\n",
              "    .dataframe thead th {\n",
              "        text-align: right;\n",
              "    }\n",
              "</style>\n",
              "<table border=\"1\" class=\"dataframe\">\n",
              "  <thead>\n",
              "    <tr style=\"text-align: right;\">\n",
              "      <th></th>\n",
              "      <th>game_id</th>\n",
              "      <th>name</th>\n",
              "      <th>company</th>\n",
              "      <th>platforms</th>\n",
              "      <th>price</th>\n",
              "      <th>release_date</th>\n",
              "      <th>rating</th>\n",
              "      <th>header</th>\n",
              "      <th>movies</th>\n",
              "      <th>short_description</th>\n",
              "    </tr>\n",
              "  </thead>\n",
              "  <tbody>\n",
              "    <tr>\n",
              "      <th>0</th>\n",
              "      <td>10</td>\n",
              "      <td>Counter-Strike</td>\n",
              "      <td>Valve</td>\n",
              "      <td>windows;mac;linux</td>\n",
              "      <td>7.19</td>\n",
              "      <td>2000-11-01</td>\n",
              "      <td>9.74</td>\n",
              "      <td>https://steamcdn-a.akamaihd.net/steam/apps/10/...</td>\n",
              "      <td>NaN</td>\n",
              "      <td>Play the world's number 1 online action game. ...</td>\n",
              "    </tr>\n",
              "    <tr>\n",
              "      <th>1</th>\n",
              "      <td>20</td>\n",
              "      <td>Team Fortress Classic</td>\n",
              "      <td>Valve</td>\n",
              "      <td>windows;mac;linux</td>\n",
              "      <td>3.99</td>\n",
              "      <td>1999-04-01</td>\n",
              "      <td>8.40</td>\n",
              "      <td>https://steamcdn-a.akamaihd.net/steam/apps/20/...</td>\n",
              "      <td>NaN</td>\n",
              "      <td>One of the most popular online action games of...</td>\n",
              "    </tr>\n",
              "    <tr>\n",
              "      <th>2</th>\n",
              "      <td>30</td>\n",
              "      <td>Day of Defeat</td>\n",
              "      <td>Valve</td>\n",
              "      <td>windows;mac;linux</td>\n",
              "      <td>3.99</td>\n",
              "      <td>2003-05-01</td>\n",
              "      <td>8.96</td>\n",
              "      <td>https://steamcdn-a.akamaihd.net/steam/apps/30/...</td>\n",
              "      <td>NaN</td>\n",
              "      <td>Enlist in an intense brand of Axis vs. Allied ...</td>\n",
              "    </tr>\n",
              "    <tr>\n",
              "      <th>3</th>\n",
              "      <td>40</td>\n",
              "      <td>Deathmatch Classic</td>\n",
              "      <td>Valve</td>\n",
              "      <td>windows;mac;linux</td>\n",
              "      <td>3.99</td>\n",
              "      <td>2001-06-01</td>\n",
              "      <td>8.27</td>\n",
              "      <td>https://steamcdn-a.akamaihd.net/steam/apps/40/...</td>\n",
              "      <td>NaN</td>\n",
              "      <td>Enjoy fast-paced multiplayer gaming with Death...</td>\n",
              "    </tr>\n",
              "    <tr>\n",
              "      <th>4</th>\n",
              "      <td>50</td>\n",
              "      <td>Half-Life: Opposing Force</td>\n",
              "      <td>Valve</td>\n",
              "      <td>windows;mac;linux</td>\n",
              "      <td>3.99</td>\n",
              "      <td>1999-11-01</td>\n",
              "      <td>9.48</td>\n",
              "      <td>https://steamcdn-a.akamaihd.net/steam/apps/50/...</td>\n",
              "      <td>NaN</td>\n",
              "      <td>Return to the Black Mesa Research Facility as ...</td>\n",
              "    </tr>\n",
              "    <tr>\n",
              "      <th>...</th>\n",
              "      <td>...</td>\n",
              "      <td>...</td>\n",
              "      <td>...</td>\n",
              "      <td>...</td>\n",
              "      <td>...</td>\n",
              "      <td>...</td>\n",
              "      <td>...</td>\n",
              "      <td>...</td>\n",
              "      <td>...</td>\n",
              "      <td>...</td>\n",
              "    </tr>\n",
              "    <tr>\n",
              "      <th>27070</th>\n",
              "      <td>1065230</td>\n",
              "      <td>Room of Pandora</td>\n",
              "      <td>SHEN JIAWEI</td>\n",
              "      <td>windows</td>\n",
              "      <td>2.09</td>\n",
              "      <td>2019-04-24</td>\n",
              "      <td>10.00</td>\n",
              "      <td>https://steamcdn-a.akamaihd.net/steam/apps/106...</td>\n",
              "      <td>[{'id': 256747452, 'name': 'Video', 'thumbnail...</td>\n",
              "      <td>The Room of Pandora is a third-person interact...</td>\n",
              "    </tr>\n",
              "    <tr>\n",
              "      <th>27071</th>\n",
              "      <td>1065570</td>\n",
              "      <td>Cyber Gun</td>\n",
              "      <td>BekkerDev Studio</td>\n",
              "      <td>windows</td>\n",
              "      <td>1.69</td>\n",
              "      <td>2019-04-23</td>\n",
              "      <td>8.89</td>\n",
              "      <td>https://steamcdn-a.akamaihd.net/steam/apps/106...</td>\n",
              "      <td>[{'id': 256747487, 'name': 'Game Trailer', 'th...</td>\n",
              "      <td>Cyber Gun is a hardcore first-person shooter w...</td>\n",
              "    </tr>\n",
              "    <tr>\n",
              "      <th>27072</th>\n",
              "      <td>1065650</td>\n",
              "      <td>Super Star Blast</td>\n",
              "      <td>EntwicklerX</td>\n",
              "      <td>windows</td>\n",
              "      <td>3.99</td>\n",
              "      <td>2019-04-24</td>\n",
              "      <td>0.00</td>\n",
              "      <td>https://steamcdn-a.akamaihd.net/steam/apps/106...</td>\n",
              "      <td>[{'id': 256747530, 'name': 'Gameplay Trailer',...</td>\n",
              "      <td>Super Star Blast is a space based game with ch...</td>\n",
              "    </tr>\n",
              "    <tr>\n",
              "      <th>27073</th>\n",
              "      <td>1066700</td>\n",
              "      <td>New Yankee 7: Deer Hunters</td>\n",
              "      <td>Alawar Entertainment</td>\n",
              "      <td>windows;mac</td>\n",
              "      <td>5.19</td>\n",
              "      <td>2019-04-17</td>\n",
              "      <td>10.00</td>\n",
              "      <td>https://steamcdn-a.akamaihd.net/steam/apps/106...</td>\n",
              "      <td>[{'id': 256747638, 'name': 'Main Trailer', 'th...</td>\n",
              "      <td>Pursue a snow-white deer through an enchanted ...</td>\n",
              "    </tr>\n",
              "    <tr>\n",
              "      <th>27074</th>\n",
              "      <td>1069460</td>\n",
              "      <td>Rune Lord</td>\n",
              "      <td>Alawar Entertainment</td>\n",
              "      <td>windows;mac</td>\n",
              "      <td>5.19</td>\n",
              "      <td>2019-04-24</td>\n",
              "      <td>10.00</td>\n",
              "      <td>https://steamcdn-a.akamaihd.net/steam/apps/106...</td>\n",
              "      <td>[{'id': 256748098, 'name': 'Main Trailer', 'th...</td>\n",
              "      <td>A portal has opened and dark magic is pouring ...</td>\n",
              "    </tr>\n",
              "  </tbody>\n",
              "</table>\n",
              "<p>27069 rows × 10 columns</p>\n",
              "</div>"
            ],
            "text/plain": [
              "       game_id  ...                                  short_description\n",
              "0           10  ...  Play the world's number 1 online action game. ...\n",
              "1           20  ...  One of the most popular online action games of...\n",
              "2           30  ...  Enlist in an intense brand of Axis vs. Allied ...\n",
              "3           40  ...  Enjoy fast-paced multiplayer gaming with Death...\n",
              "4           50  ...  Return to the Black Mesa Research Facility as ...\n",
              "...        ...  ...                                                ...\n",
              "27070  1065230  ...  The Room of Pandora is a third-person interact...\n",
              "27071  1065570  ...  Cyber Gun is a hardcore first-person shooter w...\n",
              "27072  1065650  ...  Super Star Blast is a space based game with ch...\n",
              "27073  1066700  ...  Pursue a snow-white deer through an enchanted ...\n",
              "27074  1069460  ...  A portal has opened and dark magic is pouring ...\n",
              "\n",
              "[27069 rows x 10 columns]"
            ]
          },
          "metadata": {
            "tags": []
          },
          "execution_count": 33
        }
      ]
    },
    {
      "cell_type": "code",
      "metadata": {
        "id": "39DVusXhV8X6"
      },
      "source": [
        "game_df.to_csv('Game.csv',index=False)"
      ],
      "execution_count": null,
      "outputs": []
    },
    {
      "cell_type": "markdown",
      "metadata": {
        "id": "MCCH76jb223U"
      },
      "source": [
        "##Game_tag"
      ]
    },
    {
      "cell_type": "code",
      "metadata": {
        "id": "8-NAGm1dp2Ul"
      },
      "source": [
        "dic = {}\n",
        "for i,j in zip(steam['appid'], steam['steamspy_tags'].apply(lambda x: x.split(';'))):\n",
        "  dic[i] = j\n",
        "\n",
        "# make sure each game_id has same amount of tags\n",
        "for x, y in dic.items():\n",
        "  while True:\n",
        "    if len(y)!=3:\n",
        "      dic[x].append('Null')\n",
        "    else:\n",
        "      break"
      ],
      "execution_count": null,
      "outputs": []
    },
    {
      "cell_type": "code",
      "metadata": {
        "id": "bvDALWxV0CA1"
      },
      "source": [
        "indx_lst = []\n",
        "for i,j in dic.items():\n",
        "  for _ in range(3):\n",
        "    indx_lst.append(i)"
      ],
      "execution_count": null,
      "outputs": []
    },
    {
      "cell_type": "code",
      "metadata": {
        "id": "POcctsLJ0ZRt"
      },
      "source": [
        "tags_lst = []\n",
        "for i,j in dic.items():\n",
        "  for v in j:\n",
        "    tags_lst.append(v)"
      ],
      "execution_count": null,
      "outputs": []
    },
    {
      "cell_type": "code",
      "metadata": {
        "id": "TG1DMxb2zchu"
      },
      "source": [
        "game_tag_df = pd.DataFrame({'tag_name':tags_lst},index=indx_lst)\n",
        "game_tag_df = game_tag_df[game_tag_df['tag_name']!='Null'].reset_index()\\\n",
        ".rename(columns={'index':'game_id'})"
      ],
      "execution_count": null,
      "outputs": []
    },
    {
      "cell_type": "code",
      "metadata": {
        "id": "GTgl4piuWA6f"
      },
      "source": [
        "game_tag_df.to_csv('Game_Tag.csv',index=False)"
      ],
      "execution_count": null,
      "outputs": []
    },
    {
      "cell_type": "markdown",
      "metadata": {
        "id": "nyDuxp0E3L4K"
      },
      "source": [
        "##Tag"
      ]
    },
    {
      "cell_type": "code",
      "metadata": {
        "id": "cMGHGzznicqd"
      },
      "source": [
        "tags = []\n",
        "for i in [x.split(';') for x in list(steam['steamspy_tags'].values)]:\n",
        "  for j in i:\n",
        "    if j not in tags:\n",
        "      tags.append(j)"
      ],
      "execution_count": null,
      "outputs": []
    },
    {
      "cell_type": "code",
      "metadata": {
        "id": "v9fkfY4Anzvj"
      },
      "source": [
        "tag_df = pd.DataFrame(np.array(tags).reshape(len(tags),1), columns = ['tag_name'])"
      ],
      "execution_count": null,
      "outputs": []
    },
    {
      "cell_type": "code",
      "metadata": {
        "id": "qn8_ApsgWEwx"
      },
      "source": [
        "tag_df.to_csv('Tag.csv',index=False)"
      ],
      "execution_count": null,
      "outputs": []
    },
    {
      "cell_type": "markdown",
      "metadata": {
        "id": "-EDGesWD3bZu"
      },
      "source": [
        "## System"
      ]
    },
    {
      "cell_type": "code",
      "metadata": {
        "id": "7NvCJTVR3bg_"
      },
      "source": [
        "systems = []\n",
        "for i in [x.split(';') for x in list(steam['platforms'].values)]:\n",
        "  for j in i:\n",
        "    if j not in systems:\n",
        "      systems.append(j)\n",
        "\n",
        "\n",
        "system_df = pd.DataFrame(np.array(systems).reshape(len(systems),1), columns = ['system_name'])"
      ],
      "execution_count": null,
      "outputs": []
    },
    {
      "cell_type": "code",
      "metadata": {
        "id": "xYJWRzcgWHtb"
      },
      "source": [
        "system_df.to_csv('System.csv',index=False)"
      ],
      "execution_count": null,
      "outputs": []
    },
    {
      "cell_type": "markdown",
      "metadata": {
        "id": "y42R8Y6TVNnW"
      },
      "source": [
        "##Company"
      ]
    },
    {
      "cell_type": "code",
      "metadata": {
        "id": "umagmNQA7rVc",
        "colab": {
          "base_uri": "https://localhost:8080/",
          "height": 450
        },
        "outputId": "8e1f22a4-1399-402d-e9a6-8771070c4b71"
      },
      "source": [
        "game_df.groupby('company').agg({'rating':['count','mean']}).reset_index()"
      ],
      "execution_count": null,
      "outputs": [
        {
          "output_type": "execute_result",
          "data": {
            "text/html": [
              "<div>\n",
              "<style scoped>\n",
              "    .dataframe tbody tr th:only-of-type {\n",
              "        vertical-align: middle;\n",
              "    }\n",
              "\n",
              "    .dataframe tbody tr th {\n",
              "        vertical-align: top;\n",
              "    }\n",
              "\n",
              "    .dataframe thead tr th {\n",
              "        text-align: left;\n",
              "    }\n",
              "</style>\n",
              "<table border=\"1\" class=\"dataframe\">\n",
              "  <thead>\n",
              "    <tr>\n",
              "      <th></th>\n",
              "      <th>company</th>\n",
              "      <th colspan=\"2\" halign=\"left\">rating</th>\n",
              "    </tr>\n",
              "    <tr>\n",
              "      <th></th>\n",
              "      <th></th>\n",
              "      <th>count</th>\n",
              "      <th>mean</th>\n",
              "    </tr>\n",
              "  </thead>\n",
              "  <tbody>\n",
              "    <tr>\n",
              "      <th>0</th>\n",
              "      <td>Milestone S.r.l.</td>\n",
              "      <td>1</td>\n",
              "      <td>6.670000</td>\n",
              "    </tr>\n",
              "    <tr>\n",
              "      <th>1</th>\n",
              "      <td>AFBIK Studio</td>\n",
              "      <td>3</td>\n",
              "      <td>8.023333</td>\n",
              "    </tr>\n",
              "    <tr>\n",
              "      <th>2</th>\n",
              "      <td>AYE Technology</td>\n",
              "      <td>1</td>\n",
              "      <td>2.500000</td>\n",
              "    </tr>\n",
              "    <tr>\n",
              "      <th>3</th>\n",
              "      <td>Anea_Duo_Dev</td>\n",
              "      <td>1</td>\n",
              "      <td>5.560000</td>\n",
              "    </tr>\n",
              "    <tr>\n",
              "      <th>4</th>\n",
              "      <td>Asterion Games</td>\n",
              "      <td>1</td>\n",
              "      <td>8.020000</td>\n",
              "    </tr>\n",
              "    <tr>\n",
              "      <th>...</th>\n",
              "      <td>...</td>\n",
              "      <td>...</td>\n",
              "      <td>...</td>\n",
              "    </tr>\n",
              "    <tr>\n",
              "      <th>14348</th>\n",
              "      <td>飞鹰互娱</td>\n",
              "      <td>1</td>\n",
              "      <td>9.090000</td>\n",
              "    </tr>\n",
              "    <tr>\n",
              "      <th>14349</th>\n",
              "      <td>香港商河洛互動娛樂股份有限公司;方块游戏</td>\n",
              "      <td>1</td>\n",
              "      <td>5.890000</td>\n",
              "    </tr>\n",
              "    <tr>\n",
              "      <th>14350</th>\n",
              "      <td>魂动天下</td>\n",
              "      <td>1</td>\n",
              "      <td>10.000000</td>\n",
              "    </tr>\n",
              "    <tr>\n",
              "      <th>14351</th>\n",
              "      <td>魔力乐章</td>\n",
              "      <td>1</td>\n",
              "      <td>8.570000</td>\n",
              "    </tr>\n",
              "    <tr>\n",
              "      <th>14352</th>\n",
              "      <td>수프림</td>\n",
              "      <td>1</td>\n",
              "      <td>10.000000</td>\n",
              "    </tr>\n",
              "  </tbody>\n",
              "</table>\n",
              "<p>14353 rows × 3 columns</p>\n",
              "</div>"
            ],
            "text/plain": [
              "                    company rating           \n",
              "                             count       mean\n",
              "0          Milestone S.r.l.      1   6.670000\n",
              "1              AFBIK Studio      3   8.023333\n",
              "2            AYE Technology      1   2.500000\n",
              "3              Anea_Duo_Dev      1   5.560000\n",
              "4            Asterion Games      1   8.020000\n",
              "...                     ...    ...        ...\n",
              "14348                  飞鹰互娱      1   9.090000\n",
              "14349  香港商河洛互動娛樂股份有限公司;方块游戏      1   5.890000\n",
              "14350                  魂动天下      1  10.000000\n",
              "14351                  魔力乐章      1   8.570000\n",
              "14352                   수프림      1  10.000000\n",
              "\n",
              "[14353 rows x 3 columns]"
            ]
          },
          "metadata": {
            "tags": []
          },
          "execution_count": 24
        }
      ]
    },
    {
      "cell_type": "code",
      "metadata": {
        "id": "PcC3FcKG84by",
        "colab": {
          "base_uri": "https://localhost:8080/",
          "height": 419
        },
        "outputId": "c67d1160-ac9b-4f24-cbf5-7569cb3d9be1"
      },
      "source": [
        "game_df.groupby('company').agg({'rating':['count','mean']}).reset_index()['rating']"
      ],
      "execution_count": null,
      "outputs": [
        {
          "output_type": "execute_result",
          "data": {
            "text/html": [
              "<div>\n",
              "<style scoped>\n",
              "    .dataframe tbody tr th:only-of-type {\n",
              "        vertical-align: middle;\n",
              "    }\n",
              "\n",
              "    .dataframe tbody tr th {\n",
              "        vertical-align: top;\n",
              "    }\n",
              "\n",
              "    .dataframe thead th {\n",
              "        text-align: right;\n",
              "    }\n",
              "</style>\n",
              "<table border=\"1\" class=\"dataframe\">\n",
              "  <thead>\n",
              "    <tr style=\"text-align: right;\">\n",
              "      <th></th>\n",
              "      <th>count</th>\n",
              "      <th>mean</th>\n",
              "    </tr>\n",
              "  </thead>\n",
              "  <tbody>\n",
              "    <tr>\n",
              "      <th>0</th>\n",
              "      <td>1</td>\n",
              "      <td>6.670000</td>\n",
              "    </tr>\n",
              "    <tr>\n",
              "      <th>1</th>\n",
              "      <td>3</td>\n",
              "      <td>8.023333</td>\n",
              "    </tr>\n",
              "    <tr>\n",
              "      <th>2</th>\n",
              "      <td>1</td>\n",
              "      <td>2.500000</td>\n",
              "    </tr>\n",
              "    <tr>\n",
              "      <th>3</th>\n",
              "      <td>1</td>\n",
              "      <td>5.560000</td>\n",
              "    </tr>\n",
              "    <tr>\n",
              "      <th>4</th>\n",
              "      <td>1</td>\n",
              "      <td>8.020000</td>\n",
              "    </tr>\n",
              "    <tr>\n",
              "      <th>...</th>\n",
              "      <td>...</td>\n",
              "      <td>...</td>\n",
              "    </tr>\n",
              "    <tr>\n",
              "      <th>14348</th>\n",
              "      <td>1</td>\n",
              "      <td>9.090000</td>\n",
              "    </tr>\n",
              "    <tr>\n",
              "      <th>14349</th>\n",
              "      <td>1</td>\n",
              "      <td>5.890000</td>\n",
              "    </tr>\n",
              "    <tr>\n",
              "      <th>14350</th>\n",
              "      <td>1</td>\n",
              "      <td>10.000000</td>\n",
              "    </tr>\n",
              "    <tr>\n",
              "      <th>14351</th>\n",
              "      <td>1</td>\n",
              "      <td>8.570000</td>\n",
              "    </tr>\n",
              "    <tr>\n",
              "      <th>14352</th>\n",
              "      <td>1</td>\n",
              "      <td>10.000000</td>\n",
              "    </tr>\n",
              "  </tbody>\n",
              "</table>\n",
              "<p>14353 rows × 2 columns</p>\n",
              "</div>"
            ],
            "text/plain": [
              "       count       mean\n",
              "0          1   6.670000\n",
              "1          3   8.023333\n",
              "2          1   2.500000\n",
              "3          1   5.560000\n",
              "4          1   8.020000\n",
              "...      ...        ...\n",
              "14348      1   9.090000\n",
              "14349      1   5.890000\n",
              "14350      1  10.000000\n",
              "14351      1   8.570000\n",
              "14352      1  10.000000\n",
              "\n",
              "[14353 rows x 2 columns]"
            ]
          },
          "metadata": {
            "tags": []
          },
          "execution_count": 25
        }
      ]
    },
    {
      "cell_type": "code",
      "metadata": {
        "id": "YBfKCPaEAane"
      },
      "source": [
        "company = \\\n",
        "game_df.groupby('company').agg({'rating':['count','mean']}).reset_index()[['company']]"
      ],
      "execution_count": null,
      "outputs": []
    },
    {
      "cell_type": "code",
      "metadata": {
        "id": "B9l3G4o5CfOF"
      },
      "source": [
        "count = game_df.groupby('company').agg({'rating':['count','mean']}).reset_index()['rating']['count']\n",
        "mean = game_df.groupby('company').agg({'rating':['count','mean']}).reset_index()['rating']['mean']"
      ],
      "execution_count": null,
      "outputs": []
    },
    {
      "cell_type": "code",
      "metadata": {
        "id": "qLvMZRKlBGS_"
      },
      "source": [
        "company['count'] = count\n",
        "company['mean'] = mean"
      ],
      "execution_count": null,
      "outputs": []
    },
    {
      "cell_type": "code",
      "metadata": {
        "id": "rgpRmP2tBfq0"
      },
      "source": [
        "company = company.rename(columns={'count':'num_game','mean':'avg_rating'})"
      ],
      "execution_count": null,
      "outputs": []
    },
    {
      "cell_type": "code",
      "metadata": {
        "id": "krCOKVNkqlB8"
      },
      "source": [
        "company = company.rename(columns={'company':'name'})"
      ],
      "execution_count": null,
      "outputs": []
    },
    {
      "cell_type": "code",
      "metadata": {
        "id": "hKTDcOoQq6ky"
      },
      "source": [
        "company['avg_rating'] = company['avg_rating'].round(decimals=2)"
      ],
      "execution_count": null,
      "outputs": []
    },
    {
      "cell_type": "code",
      "metadata": {
        "id": "TCTAQvNSWt0l"
      },
      "source": [
        "company.to_csv('Company.csv',index=False)"
      ],
      "execution_count": null,
      "outputs": []
    }
  ]
}